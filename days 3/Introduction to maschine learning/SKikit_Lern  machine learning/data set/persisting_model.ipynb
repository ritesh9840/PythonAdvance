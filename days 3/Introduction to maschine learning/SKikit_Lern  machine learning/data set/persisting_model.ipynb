{
 "cells": [
  {
   "cell_type": "code",
   "execution_count": 10,
   "id": "db9b6b06",
   "metadata": {},
   "outputs": [
    {
     "name": "stderr",
     "output_type": "stream",
     "text": [
      "C:\\ProgramData\\Anaconda3\\lib\\site-packages\\sklearn\\base.py:450: UserWarning: X does not have valid feature names, but DecisionTreeClassifier was fitted with feature names\n",
      "  warnings.warn(\n"
     ]
    },
    {
     "data": {
      "text/plain": [
       "array(['HipHop'], dtype=object)"
      ]
     },
     "execution_count": 10,
     "metadata": {},
     "output_type": "execute_result"
    }
   ],
   "source": [
    "import pandas as pd\n",
    "from sklearn.tree import DecisionTreeClassifier\n",
    "import joblib  # Updated import statement\n",
    "\n",
    "# # loading data\n",
    "# music_data = pd.read_csv('music.csv')\n",
    "\n",
    "# # drop the column 'genre' for input data\n",
    "# X = music_data.drop(columns=['genre'])\n",
    "\n",
    "# # getting 'genre' column only for output data\n",
    "# y = music_data['genre']\n",
    "\n",
    "# model = DecisionTreeClassifier()\n",
    "\n",
    "# # Train the model\n",
    "# model.fit(X, y)\n",
    "\n",
    "# # Predict using the model by passing test input data\n",
    "# predictions = model.predict([[21, 1]])\n",
    "\n",
    "# # Save the model to a file using joblib\n",
    "# joblib.dump(model, 'music_recommender.joblib')  # Corrected the filename and spelling\n",
    "\n",
    "model =joblib.load('music_recommender.joblib')\n",
    "predictions = model.predict([[21, 1]])\n",
    "predictions"
   ]
  },
  {
   "cell_type": "code",
   "execution_count": null,
   "id": "7725496e",
   "metadata": {},
   "outputs": [],
   "source": []
  }
 ],
 "metadata": {
  "kernelspec": {
   "display_name": "Python 3 (ipykernel)",
   "language": "python",
   "name": "python3"
  },
  "language_info": {
   "codemirror_mode": {
    "name": "ipython",
    "version": 3
   },
   "file_extension": ".py",
   "mimetype": "text/x-python",
   "name": "python",
   "nbconvert_exporter": "python",
   "pygments_lexer": "ipython3",
   "version": "3.9.12"
  }
 },
 "nbformat": 4,
 "nbformat_minor": 5
}
