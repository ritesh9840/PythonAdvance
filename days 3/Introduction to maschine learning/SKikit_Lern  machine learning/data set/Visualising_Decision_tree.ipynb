{
 "cells": [
  {
   "cell_type": "code",
   "execution_count": 2,
   "id": "fefb5748",
   "metadata": {},
   "outputs": [],
   "source": [
    "import pandas as pd\n",
    "from sklearn.tree import DecisionTreeClassifier, export_graphviz\n",
    "\n",
    "# Loading data\n",
    "music_data = pd.read_csv('music.csv')\n",
    "\n",
    "# Drop the column 'genre' for input data\n",
    "X = music_data.drop(columns=['genre'])\n",
    "\n",
    "# Getting 'genre' column only for output data\n",
    "y = music_data['genre']\n",
    "\n",
    "model = DecisionTreeClassifier()\n",
    "\n",
    "# Train the model\n",
    "model.fit(X, y)\n",
    "\n",
    "# Export the decision tree visualization to a .dot file\n",
    "export_graphviz(model, out_file='music_recommender.dot',\n",
    "                feature_names=['age', 'gender'],\n",
    "                class_names=sorted(y.unique()),\n",
    "                label='all',\n",
    "                rounded=True,\n",
    "                filled=True)\n"
   ]
  }
 ],
 "metadata": {
  "kernelspec": {
   "display_name": "Python 3 (ipykernel)",
   "language": "python",
   "name": "python3"
  },
  "language_info": {
   "codemirror_mode": {
    "name": "ipython",
    "version": 3
   },
   "file_extension": ".py",
   "mimetype": "text/x-python",
   "name": "python",
   "nbconvert_exporter": "python",
   "pygments_lexer": "ipython3",
   "version": "3.9.12"
  }
 },
 "nbformat": 4,
 "nbformat_minor": 5
}
