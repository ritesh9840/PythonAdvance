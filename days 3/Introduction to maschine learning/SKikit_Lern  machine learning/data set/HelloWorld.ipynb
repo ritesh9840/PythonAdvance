{
 "cells": [
  {
   "cell_type": "code",
   "execution_count": 50,
   "id": "c5433a6e",
   "metadata": {},
   "outputs": [
    {
     "data": {
      "text/plain": [
       "0.5"
      ]
     },
     "execution_count": 50,
     "metadata": {},
     "output_type": "execute_result"
    }
   ],
   "source": [
    "import pandas as pd\n",
    "from sklearn.tree import DecisionTreeClassifier\n",
    "from sklearn.model_selection import train_test_split\n",
    "from sklearn.metrics import accuracy_score\n",
    "#loading  data\n",
    "music_data=pd.read_csv('music.csv')\n",
    "#drop the column genre for input dta\n",
    "X=music_data.drop( columns=['genre'])\n",
    "#geting genere column only for ouput data\n",
    "y= music_data['genre']\n",
    "#data split for train and test\n",
    "X_train,X_test,y_train,y_test=train_test_split(X,y,test_size=0.2)\n",
    "model = DecisionTreeClassifier()\n",
    "#Train training the moel\n",
    "model.fit(X_train,y_train)\n",
    "#prediction the moel by passeing test input Data\n",
    "predictions=model.predict(X_test)\n",
    "#doing predection for data  \n",
    "score=accuracy_score(y_test,predictions)\n",
    "#press ctr+enter to run the program multiple time\n",
    "score\n",
    "\n"
   ]
  },
  {
   "cell_type": "code",
   "execution_count": null,
   "id": "8c9e955f",
   "metadata": {},
   "outputs": [],
   "source": []
  }
 ],
 "metadata": {
  "kernelspec": {
   "display_name": "Python 3 (ipykernel)",
   "language": "python",
   "name": "python3"
  },
  "language_info": {
   "codemirror_mode": {
    "name": "ipython",
    "version": 3
   },
   "file_extension": ".py",
   "mimetype": "text/x-python",
   "name": "python",
   "nbconvert_exporter": "python",
   "pygments_lexer": "ipython3",
   "version": "3.9.12"
  }
 },
 "nbformat": 4,
 "nbformat_minor": 5
}
